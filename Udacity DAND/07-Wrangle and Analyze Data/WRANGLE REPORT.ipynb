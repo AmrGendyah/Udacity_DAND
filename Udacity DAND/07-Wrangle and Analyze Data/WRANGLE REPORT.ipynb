{
 "cells": [
  {
   "cell_type": "markdown",
   "metadata": {},
   "source": [
    "# WRANGLE REPORT"
   ]
  },
  {
   "cell_type": "markdown",
   "metadata": {},
   "source": [
    "## Introduction\n",
    "This Wrangle and Analyze Data Project is part of Udacity’s Data Analyst Nanodegree.\n",
    "The project involves wrangling of data from various sources associated with tweets from the\n",
    "Twitter user @dog_rates, also known as WeRateDogs. After scraping together\n",
    "the data, quality and tidiness issues were assessed and then cleaned. "
   ]
  },
  {
   "cell_type": "markdown",
   "metadata": {},
   "source": [
    "## 1- Gathering Data\n",
    "Data were collected from three different sources.\n",
    "- First:- data was collected from the “twitter-archive-enhanced.csv” file which was in the same directory in which project notebook was located. The csv file was imported into pandas dataframe `twitter_archive`.\n",
    "- Second:- data was extracted programmatically from a URL:\n",
    "   https://d17h27t6h515a5.cloudfront.net/topher/2017/August/599fd2ad_image\n",
    "  predictions/image-predictions.tsv. Python’s request library was used to extract data from URL and save it to a file .this file was imported as a dataframe in pandas `image_predictions`.\n",
    "- Third:- data was extracted from Twitter API using python’s tweepy library. I needed to extract the favourites and retweet counts for each tweet. This data was then saved as a JSON file."
   ]
  },
  {
   "cell_type": "markdown",
   "metadata": {},
   "source": [
    "## 2- Assessing Data\n",
    "### Quality\n",
    "#### `twitter_archive `\n",
    "- Pandas’.info() method showed that tweet_id is an integer not a string, timestamp column needed to be a datetime object instead of a string.\n",
    "- df.name.value_counts() showed that there were a,an,the and by are used  as names \n",
    "- df.head() showed that Unnecessary html tags in source column.\n",
    "- Nulls represented as \"None\" (str) for name, doggo, floofer, pupper, and puppo columns\n",
    "- The numerator and denominator columns have unusual values.\n",
    "- There are 2075 rows in the image_predictions, 2356 rows in twitter_archive      dataframe and 2333 rows in the status_df.\n",
    "- 137 duplicated rows in expanded_urls\n",
    "\n",
    "#### ` image_predictions`\n",
    "- pred_img.jpg_url.duplicated().sum() showed that there were 66 duplicated jpg_url\n",
    "\n",
    "#### `status_df`\n",
    "\n",
    "\n",
    "###  Tidiness\n",
    "\n",
    "- doggo, floofer, pupper and puppo columns in `twitter_archive` table \n",
    "  should be merged into one column named \"stage\" and convert None to null\n",
    "- Joining breed column with `twitter_archive` table\n",
    "- retweet_count and favorite_count columns from `status_df`\n",
    "  should be joined with twitter_archive table"
   ]
  },
  {
   "cell_type": "markdown",
   "metadata": {},
   "source": [
    "## 3- Cleaning Data\n",
    "- dropping unnecessary columns from `twitter_archive` dataframe\n",
    "- doggo, floofer, pupper and puppo columns in twitter_archive table should be merged into one column named \"stage\".After i used `pandas.melt()` i found that `twitter_archive` was 4 times more than befor,so I used forloop to iterate \n",
    "  through rows ,appended them to a list and created a dataframe. after that I used a forloop again to replace each value in stage column with one word.\n",
    "- Condensing dog breed predictions by using function I created.\n",
    "- Merging `breed` column with `twitter_archive` table by using `pandas.merge()`\n",
    "- Merging `retweet_count` and `favorite_count` with` twitter_archive` table by `tweet_id`by using `pandas.merge()`.\n",
    "- Using `astype` to convert integers to strings and object to date.\n",
    "- Using `.str.lower()` to change the uppercase to lowercase.\n",
    "- Using `.drop_duplicates()` to drop 66 duplicated rows in  `jpg_url`and 137 duplicated rows in `expanded_urls`.\n",
    "- Stripping all html anchor tags (i.e. <a..>) in `source` column and retain just the text in between the tags. Convert the datatype from string to categorical.\n",
    "- Replacing a,an,the and by with `np.nan`\n",
    "- Creating a function that identifies the value before the last / in the text and uses this in the rating_numerator column. Manually correct any ratings that are not covered by the function.\n"
   ]
  },
  {
   "cell_type": "code",
   "execution_count": null,
   "metadata": {},
   "outputs": [],
   "source": []
  }
 ],
 "metadata": {
  "kernelspec": {
   "display_name": "Python 3",
   "language": "python",
   "name": "python3"
  },
  "language_info": {
   "codemirror_mode": {
    "name": "ipython",
    "version": 3
   },
   "file_extension": ".py",
   "mimetype": "text/x-python",
   "name": "python",
   "nbconvert_exporter": "python",
   "pygments_lexer": "ipython3",
   "version": "3.6.3"
  }
 },
 "nbformat": 4,
 "nbformat_minor": 2
}
