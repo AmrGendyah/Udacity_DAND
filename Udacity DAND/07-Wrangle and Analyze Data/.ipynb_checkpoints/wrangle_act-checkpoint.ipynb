{
 "cells": [
  {
   "cell_type": "markdown",
   "metadata": {},
   "source": [
    "# Gathering Data"
   ]
  },
  {
   "cell_type": "code",
   "execution_count": 96,
   "metadata": {},
   "outputs": [],
   "source": [
    "import tweepy\n",
    "from tweepy import OAuthHandler\n",
    "import json\n",
    "from timeit import default_timer as timer\n",
    "import requests\n",
    "import os\n",
    "import numpy as np\n",
    "import pandas as pd \n",
    "import matplotlib.pyplot as plt\n",
    "import seaborn as sns"
   ]
  },
  {
   "cell_type": "code",
   "execution_count": 2,
   "metadata": {},
   "outputs": [],
   "source": [
    "df = pd.read_csv('twitter-archive-enhanced.csv')"
   ]
  },
  {
   "cell_type": "code",
   "execution_count": null,
   "metadata": {},
   "outputs": [],
   "source": [
    "# Import & write Image Predictions \n",
    "url = 'https://d17h27t6h515a5.cloudfront.net/topher/2017/August/599fd2ad_image-predictions/image-predictions.tsv' \n",
    "response = requests.get(url)\n",
    "\n",
    "with open('image_predictions.tsv', 'wb') as file:\n",
    "    file.write(response.content)"
   ]
  },
  {
   "cell_type": "code",
   "execution_count": 103,
   "metadata": {},
   "outputs": [],
   "source": [
    "# Read Image Predictions \n",
    "pred_img= pd.read_csv('image_predictions.tsv', sep = '\\t', encoding = 'utf-8')"
   ]
  },
  {
   "cell_type": "code",
   "execution_count": null,
   "metadata": {},
   "outputs": [],
   "source": [
    "# Query Twitter's API for JSON data for each tweet ID in the Twitter archive\n",
    "\n",
    "consumer_key = ''\n",
    "consumer_secret = ''\n",
    "access_token = ''\n",
    "access_secret = ''\n",
    "\n",
    "auth = tweepy.OAuthHandler(consumer_key, consumer_secret)\n",
    "auth.set_access_token(access_token, access_secret)\n",
    "\n",
    "api = tweepy.API(auth, wait_on_rate_limit=True)\n",
    "\n",
    "tweet_ids = df.tweet_id.values\n",
    "len(tweet_ids)\n",
    "\n",
    "count = 0\n",
    "fails_dict = {}\n",
    "start = timer()\n",
    "\n",
    "# Save each tweet's returned JSON as a new line in a .txt file\n",
    "with open('tweet_json.txt', 'w') as outfile:\n",
    "    # This loop will likely take 20-30 minutes to run because of Twitter's rate limit\n",
    "    for tweet_id in tweet_ids:\n",
    "        count += 1\n",
    "        print(str(count) + \": \" + str(tweet_id))\n",
    "        try:\n",
    "            tweet = api.get_status(tweet_id, tweet_mode='extended')\n",
    "            print(\"Success\")\n",
    "            json.dump(tweet._json, outfile)\n",
    "            outfile.write('\\n')\n",
    "        except tweepy.TweepError as e:\n",
    "            print(\"Fail\")\n",
    "            fails_dict[tweet_id] = e\n",
    "            pass\n",
    "end = timer()\n",
    "print(end - start)\n",
    "print(fails_dict)\n",
    "\n"
   ]
  },
  {
   "cell_type": "code",
   "execution_count": 4,
   "metadata": {},
   "outputs": [
    {
     "data": {
      "text/plain": [
       "[{'tweet_id': 892420643555336193,\n",
       "  'retweet_count': 7976,\n",
       "  'favorite_count': 37218},\n",
       " {'tweet_id': 892177421306343426,\n",
       "  'retweet_count': 5916,\n",
       "  'favorite_count': 32011},\n",
       " {'tweet_id': 891815181378084864,\n",
       "  'retweet_count': 3911,\n",
       "  'favorite_count': 24103}]"
      ]
     },
     "execution_count": 4,
     "metadata": {},
     "output_type": "execute_result"
    }
   ],
   "source": [
    "# List of dictionaries to read tweet's JSON data line by line.\n",
    "df_list = []\n",
    "with open('tweet_json.txt', 'r') as json_file:\n",
    "    for line in json_file:\n",
    "        status = json.loads(line)\n",
    "        \n",
    "        # Append to list of dictionaries\n",
    "        df_list.append({'tweet_id': status['id'],\n",
    "                        'retweet_count': status['retweet_count'],\n",
    "                        'favorite_count': status['favorite_count']\n",
    "                       })\n",
    "df_list[:3]"
   ]
  },
  {
   "cell_type": "code",
   "execution_count": 5,
   "metadata": {},
   "outputs": [
    {
     "data": {
      "text/html": [
       "<div>\n",
       "<style scoped>\n",
       "    .dataframe tbody tr th:only-of-type {\n",
       "        vertical-align: middle;\n",
       "    }\n",
       "\n",
       "    .dataframe tbody tr th {\n",
       "        vertical-align: top;\n",
       "    }\n",
       "\n",
       "    .dataframe thead th {\n",
       "        text-align: right;\n",
       "    }\n",
       "</style>\n",
       "<table border=\"1\" class=\"dataframe\">\n",
       "  <thead>\n",
       "    <tr style=\"text-align: right;\">\n",
       "      <th></th>\n",
       "      <th>tweet_id</th>\n",
       "      <th>retweet_count</th>\n",
       "      <th>favorite_count</th>\n",
       "    </tr>\n",
       "  </thead>\n",
       "  <tbody>\n",
       "    <tr>\n",
       "      <th>0</th>\n",
       "      <td>892420643555336193</td>\n",
       "      <td>7976</td>\n",
       "      <td>37218</td>\n",
       "    </tr>\n",
       "    <tr>\n",
       "      <th>1</th>\n",
       "      <td>892177421306343426</td>\n",
       "      <td>5916</td>\n",
       "      <td>32011</td>\n",
       "    </tr>\n",
       "    <tr>\n",
       "      <th>2</th>\n",
       "      <td>891815181378084864</td>\n",
       "      <td>3911</td>\n",
       "      <td>24103</td>\n",
       "    </tr>\n",
       "  </tbody>\n",
       "</table>\n",
       "</div>"
      ],
      "text/plain": [
       "             tweet_id  retweet_count  favorite_count\n",
       "0  892420643555336193           7976           37218\n",
       "1  892177421306343426           5916           32011\n",
       "2  891815181378084864           3911           24103"
      ]
     },
     "execution_count": 5,
     "metadata": {},
     "output_type": "execute_result"
    }
   ],
   "source": [
    "# Create a DataFrame from JSON data\n",
    "status_df = pd.DataFrame(df_list, columns = ['tweet_id', \n",
    "                                             'retweet_count', \n",
    "                                             'favorite_count'])\n",
    "status_df.head(3)"
   ]
  },
  {
   "cell_type": "markdown",
   "metadata": {},
   "source": [
    "# Assessing Data"
   ]
  },
  {
   "cell_type": "code",
   "execution_count": null,
   "metadata": {},
   "outputs": [],
   "source": [
    "df.head()"
   ]
  },
  {
   "cell_type": "code",
   "execution_count": null,
   "metadata": {},
   "outputs": [],
   "source": [
    "df.info()"
   ]
  },
  {
   "cell_type": "code",
   "execution_count": null,
   "metadata": {},
   "outputs": [],
   "source": [
    "df.describe()"
   ]
  },
  {
   "cell_type": "code",
   "execution_count": null,
   "metadata": {},
   "outputs": [],
   "source": [
    "sum(df.tweet_id.duplicated())"
   ]
  },
  {
   "cell_type": "code",
   "execution_count": null,
   "metadata": {},
   "outputs": [],
   "source": [
    "sum(df.expanded_urls.duplicated())"
   ]
  },
  {
   "cell_type": "code",
   "execution_count": null,
   "metadata": {},
   "outputs": [],
   "source": [
    "df.name.value_counts()"
   ]
  },
  {
   "cell_type": "code",
   "execution_count": null,
   "metadata": {},
   "outputs": [],
   "source": [
    "sum(pred_img.tweet_id.duplicated())"
   ]
  },
  {
   "cell_type": "code",
   "execution_count": null,
   "metadata": {},
   "outputs": [],
   "source": [
    "pred_img.head()"
   ]
  },
  {
   "cell_type": "code",
   "execution_count": null,
   "metadata": {},
   "outputs": [],
   "source": [
    "pred_img.info()"
   ]
  },
  {
   "cell_type": "code",
   "execution_count": null,
   "metadata": {},
   "outputs": [],
   "source": [
    "pred_img.jpg_url.duplicated().sum()"
   ]
  },
  {
   "cell_type": "code",
   "execution_count": null,
   "metadata": {},
   "outputs": [],
   "source": [
    "status_df.head()"
   ]
  },
  {
   "cell_type": "code",
   "execution_count": null,
   "metadata": {},
   "outputs": [],
   "source": [
    "sum(status_df.tweet_id.duplicated())"
   ]
  },
  {
   "cell_type": "code",
   "execution_count": null,
   "metadata": {},
   "outputs": [],
   "source": [
    "status_df.info()"
   ]
  },
  {
   "cell_type": "code",
   "execution_count": null,
   "metadata": {},
   "outputs": [],
   "source": [
    "status_df.describe()"
   ]
  },
  {
   "cell_type": "markdown",
   "metadata": {},
   "source": [
    "#### Quality\n",
    "##### `twitter_archive` table\n",
    "- tweet_id is an integer not a string.\n",
    "- in_reply_to_status_id, in_reply_to_user_id, retweeted_status_id\n",
    "   and retweeted_status_user_id are floats not strings.        \n",
    "- Erroneous datatypes(timestamp and retweeted_status_timestamp columns).\n",
    "- 137 duplicated expanded_urls\n",
    "- Unnecessary html tags in source column\n",
    "- a,an,the and by as names\n",
    "\n",
    "##### `image_predictions` table\n",
    "- tweet_id is an integer not a string.\n",
    "- some breeds start with uppercase.\n",
    "- 66 duplicated jpg_url   \n",
    "\n",
    "##### `status_df` table\n",
    "- tweet_id is an integer not a string.\n",
    "\n",
    "#### Tidiness\n",
    "- dropping unnecessary columns from `twitter_archive` dataframe.\n",
    "- doggo, floofer, pupper and puppo columns in `twitter_archive` table \n",
    "  should be merged into one column named \"stage\" and convert None to null\n",
    "- Condensing dog breed predictions \n",
    "- Joining breed column with `twitter_archive` table\n",
    "- retweet_count and favorite_count columns from `status_df`\n",
    "  should be joined with twitter_archive table\n",
    "\n"
   ]
  },
  {
   "cell_type": "markdown",
   "metadata": {},
   "source": [
    "# Cleaning Data"
   ]
  },
  {
   "cell_type": "code",
   "execution_count": 6,
   "metadata": {},
   "outputs": [],
   "source": [
    "# Copies of the original pieces of data\n",
    "df_clean = df.copy()\n",
    "pred_clean =pred_img.copy()\n",
    "status_clean = status_df.copy()"
   ]
  },
  {
   "cell_type": "code",
   "execution_count": null,
   "metadata": {},
   "outputs": [],
   "source": [
    "df_clean.info()\n",
    "print('-'*5)\n",
    "pred_clean.info()\n",
    "print('-'*5)\n",
    "status_clean.info()"
   ]
  },
  {
   "cell_type": "markdown",
   "metadata": {},
   "source": [
    "### Tidiness\n",
    "##### 1- dropping unnecessary columns from `twitter_archive` dataframe "
   ]
  },
  {
   "cell_type": "markdown",
   "metadata": {},
   "source": [
    "##### Define\n",
    "use `DataFrame.drop` to drop `'rating_numerator'`,`'rating_denominator'`, `in_reply_to_status_id`,`in_reply_to_user_id`,\n",
    "`text`,`retweeted_status_id`,`retweeted_status_user_id`,\n",
    "`retweeted_status_timestamp` and `expanded_urls` columns"
   ]
  },
  {
   "cell_type": "markdown",
   "metadata": {},
   "source": [
    "##### Code"
   ]
  },
  {
   "cell_type": "code",
   "execution_count": 7,
   "metadata": {},
   "outputs": [],
   "source": [
    "# dropping unnecessary columns from twitter_archive dataframe\n",
    "\n",
    "df_clean.drop(['in_reply_to_status_id','in_reply_to_user_id',\n",
    "               'text','retweeted_status_id','retweeted_status_user_id',\n",
    "               'retweeted_status_timestamp','expanded_urls',\n",
    "               'rating_numerator','rating_denominator'],axis=1, \n",
    "             inplace = True)"
   ]
  },
  {
   "cell_type": "markdown",
   "metadata": {},
   "source": [
    "##### Test"
   ]
  },
  {
   "cell_type": "code",
   "execution_count": null,
   "metadata": {},
   "outputs": [],
   "source": [
    "df_clean.info()"
   ]
  },
  {
   "cell_type": "markdown",
   "metadata": {},
   "source": [
    "##### 2- doggo, floofer, pupper and puppo columns in twitter_archive table should be merged into one column named \"stage\""
   ]
  },
  {
   "cell_type": "markdown",
   "metadata": {},
   "source": [
    "##### Define \n",
    "create a dataFrame for doggo, floofer, pupper and puppo columns in `twitter_archive`.Then create a column named stage and merge it with\n",
    "`twitter_archive`.Drop them.\n"
   ]
  },
  {
   "cell_type": "markdown",
   "metadata": {},
   "source": [
    "##### Code"
   ]
  },
  {
   "cell_type": "code",
   "execution_count": 45,
   "metadata": {},
   "outputs": [
    {
     "name": "stdout",
     "output_type": "stream",
     "text": [
      "<class 'pandas.core.frame.DataFrame'>\n",
      "RangeIndex: 2356 entries, 0 to 2355\n",
      "Data columns (total 5 columns):\n",
      "tweet_id    2356 non-null int64\n",
      "doggo       2356 non-null object\n",
      "floofer     2356 non-null object\n",
      "pupper      2356 non-null object\n",
      "puppo       2356 non-null object\n",
      "dtypes: int64(1), object(4)\n",
      "memory usage: 92.1+ KB\n"
     ]
    }
   ],
   "source": [
    "df_stage = df_clean[['tweet_id','doggo','floofer', 'pupper','puppo']]\n",
    "df_stage.info()"
   ]
  },
  {
   "cell_type": "code",
   "execution_count": 104,
   "metadata": {},
   "outputs": [
    {
     "ename": "NameError",
     "evalue": "name 'df_stage' is not defined",
     "output_type": "error",
     "traceback": [
      "\u001b[0;31m---------------------------------------------------------------------------\u001b[0m",
      "\u001b[0;31mNameError\u001b[0m                                 Traceback (most recent call last)",
      "\u001b[0;32m<ipython-input-104-0bd9b901e935>\u001b[0m in \u001b[0;36m<module>\u001b[0;34m()\u001b[0m\n\u001b[1;32m      3\u001b[0m \u001b[0mstage_list\u001b[0m \u001b[0;34m=\u001b[0m \u001b[0;34m[\u001b[0m\u001b[0;34m]\u001b[0m\u001b[0;34m\u001b[0m\u001b[0m\n\u001b[1;32m      4\u001b[0m \u001b[0;31m# Iterate over each row\u001b[0m\u001b[0;34m\u001b[0m\u001b[0;34m\u001b[0m\u001b[0m\n\u001b[0;32m----> 5\u001b[0;31m \u001b[0;32mfor\u001b[0m \u001b[0mindex\u001b[0m\u001b[0;34m,\u001b[0m \u001b[0mrows\u001b[0m \u001b[0;32min\u001b[0m \u001b[0mdf_stage\u001b[0m\u001b[0;34m.\u001b[0m\u001b[0miterrows\u001b[0m\u001b[0;34m(\u001b[0m\u001b[0;34m)\u001b[0m\u001b[0;34m:\u001b[0m\u001b[0;34m\u001b[0m\u001b[0m\n\u001b[0m\u001b[1;32m      6\u001b[0m     \u001b[0;31m# Create list for the current row\u001b[0m\u001b[0;34m\u001b[0m\u001b[0;34m\u001b[0m\u001b[0m\n\u001b[1;32m      7\u001b[0m     \u001b[0mmlist\u001b[0m \u001b[0;34m=\u001b[0m\u001b[0;34m[\u001b[0m\u001b[0mrows\u001b[0m\u001b[0;34m.\u001b[0m\u001b[0mdoggo\u001b[0m\u001b[0;34m,\u001b[0m \u001b[0mrows\u001b[0m\u001b[0;34m.\u001b[0m\u001b[0mfloofer\u001b[0m\u001b[0;34m,\u001b[0m \u001b[0mrows\u001b[0m\u001b[0;34m.\u001b[0m\u001b[0mpupper\u001b[0m\u001b[0;34m,\u001b[0m \u001b[0mrows\u001b[0m\u001b[0;34m.\u001b[0m\u001b[0mpuppo\u001b[0m\u001b[0;34m]\u001b[0m\u001b[0;34m\u001b[0m\u001b[0m\n",
      "\u001b[0;31mNameError\u001b[0m: name 'df_stage' is not defined"
     ]
    }
   ],
   "source": [
    "# add 4 dog stages to one column\n",
    "\n",
    "stage_list = []\n",
    "# Iterate over each row \n",
    "for index, rows in df_stage.iterrows(): \n",
    "    # Create list for the current row \n",
    "    mlist =[rows.doggo, rows.floofer, rows.pupper, rows.puppo] \n",
    "    # convert every list to string\n",
    "    res = str(\"\".join(mlist)) \n",
    "    # append the list to the final list \n",
    "    stage_list.append(res) \n",
    "\n",
    "df_stage['stage']= pd.Series(stage_list)"
   ]
  },
  {
   "cell_type": "code",
   "execution_count": 29,
   "metadata": {},
   "outputs": [
    {
     "name": "stdout",
     "output_type": "stream",
     "text": [
      "<class 'pandas.core.frame.DataFrame'>\n",
      "RangeIndex: 2356 entries, 0 to 2355\n",
      "Data columns (total 6 columns):\n",
      "tweet_id    2356 non-null int64\n",
      "doggo       2356 non-null object\n",
      "floofer     2356 non-null object\n",
      "pupper      2356 non-null object\n",
      "puppo       2356 non-null object\n",
      "stage       2356 non-null object\n",
      "dtypes: int64(1), object(5)\n",
      "memory usage: 110.5+ KB\n"
     ]
    }
   ],
   "source": [
    "df_stage.info()"
   ]
  },
  {
   "cell_type": "code",
   "execution_count": 47,
   "metadata": {},
   "outputs": [],
   "source": [
    "# drop columns from doggo to puppo\n",
    "df_stage= df_stage.drop(df_stage.loc[:,'doggo':'puppo'],axis = 1)"
   ]
  },
  {
   "cell_type": "code",
   "execution_count": 49,
   "metadata": {},
   "outputs": [],
   "source": [
    "# replace 4 stages with 1 stage\n",
    "\n",
    "w_list=['NoneNoneNoneNone','doggoNoneNoneNone','NoneflooferNoneNone',\n",
    "        'NoneNonepupperNone','NoneNoneNonepuppo']\n",
    "o_list=['None', \"doggo\",\"floofer\",\"pupper\",\"puppo\"]\n",
    "for i in (df_stage.stage):\n",
    "    if i in w_list :\n",
    "        df_stage['stage'].replace(i,o_list[w_list.index(i)], inplace=True) \n",
    "    else:\n",
    "        df_stage['stage'].replace(i,'None', inplace=True)"
   ]
  },
  {
   "cell_type": "code",
   "execution_count": 53,
   "metadata": {},
   "outputs": [],
   "source": [
    "#Convert None to null\n",
    "df_stage= df_stage.replace('None',np.NaN)\n",
    "df_clean= df_clean.replace('None',np.NaN)"
   ]
  },
  {
   "cell_type": "code",
   "execution_count": 55,
   "metadata": {},
   "outputs": [],
   "source": [
    "#Merge df_stage with df_clean \n",
    "#then drop columns from doggo to puppo\n",
    "df_clean = pd.merge(df_clean, df_stage, on=['tweet_id'],how = 'left')\n",
    "\n",
    "df_clean = df_clean.drop(df_clean.loc[:,'doggo':'puppo'],axis = 1)"
   ]
  },
  {
   "cell_type": "markdown",
   "metadata": {},
   "source": [
    "##### Test"
   ]
  },
  {
   "cell_type": "code",
   "execution_count": 56,
   "metadata": {},
   "outputs": [
    {
     "name": "stdout",
     "output_type": "stream",
     "text": [
      "<class 'pandas.core.frame.DataFrame'>\n",
      "Int64Index: 2356 entries, 0 to 2355\n",
      "Data columns (total 5 columns):\n",
      "tweet_id     2356 non-null int64\n",
      "timestamp    2356 non-null object\n",
      "source       2356 non-null object\n",
      "name         1611 non-null object\n",
      "stage        366 non-null object\n",
      "dtypes: int64(1), object(4)\n",
      "memory usage: 110.4+ KB\n"
     ]
    }
   ],
   "source": [
    "df_clean.info()"
   ]
  },
  {
   "cell_type": "code",
   "execution_count": 57,
   "metadata": {},
   "outputs": [
    {
     "data": {
      "text/html": [
       "<div>\n",
       "<style scoped>\n",
       "    .dataframe tbody tr th:only-of-type {\n",
       "        vertical-align: middle;\n",
       "    }\n",
       "\n",
       "    .dataframe tbody tr th {\n",
       "        vertical-align: top;\n",
       "    }\n",
       "\n",
       "    .dataframe thead th {\n",
       "        text-align: right;\n",
       "    }\n",
       "</style>\n",
       "<table border=\"1\" class=\"dataframe\">\n",
       "  <thead>\n",
       "    <tr style=\"text-align: right;\">\n",
       "      <th></th>\n",
       "      <th>tweet_id</th>\n",
       "      <th>timestamp</th>\n",
       "      <th>source</th>\n",
       "      <th>name</th>\n",
       "      <th>stage</th>\n",
       "    </tr>\n",
       "  </thead>\n",
       "  <tbody>\n",
       "    <tr>\n",
       "      <th>0</th>\n",
       "      <td>892420643555336193</td>\n",
       "      <td>2017-08-01 16:23:56 +0000</td>\n",
       "      <td>&lt;a href=\"http://twitter.com/download/iphone\" r...</td>\n",
       "      <td>Phineas</td>\n",
       "      <td>NaN</td>\n",
       "    </tr>\n",
       "    <tr>\n",
       "      <th>1</th>\n",
       "      <td>892177421306343426</td>\n",
       "      <td>2017-08-01 00:17:27 +0000</td>\n",
       "      <td>&lt;a href=\"http://twitter.com/download/iphone\" r...</td>\n",
       "      <td>Tilly</td>\n",
       "      <td>NaN</td>\n",
       "    </tr>\n",
       "    <tr>\n",
       "      <th>2</th>\n",
       "      <td>891815181378084864</td>\n",
       "      <td>2017-07-31 00:18:03 +0000</td>\n",
       "      <td>&lt;a href=\"http://twitter.com/download/iphone\" r...</td>\n",
       "      <td>Archie</td>\n",
       "      <td>NaN</td>\n",
       "    </tr>\n",
       "    <tr>\n",
       "      <th>3</th>\n",
       "      <td>891689557279858688</td>\n",
       "      <td>2017-07-30 15:58:51 +0000</td>\n",
       "      <td>&lt;a href=\"http://twitter.com/download/iphone\" r...</td>\n",
       "      <td>Darla</td>\n",
       "      <td>NaN</td>\n",
       "    </tr>\n",
       "    <tr>\n",
       "      <th>4</th>\n",
       "      <td>891327558926688256</td>\n",
       "      <td>2017-07-29 16:00:24 +0000</td>\n",
       "      <td>&lt;a href=\"http://twitter.com/download/iphone\" r...</td>\n",
       "      <td>Franklin</td>\n",
       "      <td>NaN</td>\n",
       "    </tr>\n",
       "  </tbody>\n",
       "</table>\n",
       "</div>"
      ],
      "text/plain": [
       "             tweet_id                  timestamp  \\\n",
       "0  892420643555336193  2017-08-01 16:23:56 +0000   \n",
       "1  892177421306343426  2017-08-01 00:17:27 +0000   \n",
       "2  891815181378084864  2017-07-31 00:18:03 +0000   \n",
       "3  891689557279858688  2017-07-30 15:58:51 +0000   \n",
       "4  891327558926688256  2017-07-29 16:00:24 +0000   \n",
       "\n",
       "                                              source      name stage  \n",
       "0  <a href=\"http://twitter.com/download/iphone\" r...   Phineas   NaN  \n",
       "1  <a href=\"http://twitter.com/download/iphone\" r...     Tilly   NaN  \n",
       "2  <a href=\"http://twitter.com/download/iphone\" r...    Archie   NaN  \n",
       "3  <a href=\"http://twitter.com/download/iphone\" r...     Darla   NaN  \n",
       "4  <a href=\"http://twitter.com/download/iphone\" r...  Franklin   NaN  "
      ]
     },
     "execution_count": 57,
     "metadata": {},
     "output_type": "execute_result"
    }
   ],
   "source": [
    "df_clean.head()"
   ]
  },
  {
   "cell_type": "code",
   "execution_count": 58,
   "metadata": {},
   "outputs": [
    {
     "data": {
      "text/plain": [
       "pupper     245\n",
       "doggo       83\n",
       "puppo       29\n",
       "floofer      9\n",
       "Name: stage, dtype: int64"
      ]
     },
     "execution_count": 58,
     "metadata": {},
     "output_type": "execute_result"
    }
   ],
   "source": [
    "df_clean['stage'].value_counts()"
   ]
  },
  {
   "cell_type": "markdown",
   "metadata": {},
   "source": [
    "#### 3- Condensing dog breed predictions"
   ]
  },
  {
   "cell_type": "markdown",
   "metadata": {},
   "source": [
    "##### Define\n",
    "create a function to extract the breed of dogs"
   ]
  },
  {
   "cell_type": "markdown",
   "metadata": {},
   "source": [
    "##### Code"
   ]
  },
  {
   "cell_type": "code",
   "execution_count": 59,
   "metadata": {},
   "outputs": [],
   "source": [
    "breed = []\n",
    "conf= []\n",
    "\n",
    "def breed_conf(row):\n",
    "    if row['p1_dog']:\n",
    "        breed.append(row['p1'])\n",
    "        conf.append(row['p1_conf'])\n",
    "    elif row['p2_dog']:\n",
    "        breed.append(row['p2'])\n",
    "        conf.append(row['p2_conf'])\n",
    "    elif row['p3_dog']:\n",
    "        breed.append(row['p3'])\n",
    "        conf.append(row['p3_conf'])\n",
    "    else:\n",
    "        breed.append('Unidentifiable')\n",
    "        conf.append(0)\n",
    "\n",
    "pred_clean.apply(breed_conf, axis = 1)\n",
    "\n",
    "pred_clean['breed'] = breed\n",
    "pred_clean['confidence'] = conf"
   ]
  },
  {
   "cell_type": "code",
   "execution_count": 60,
   "metadata": {},
   "outputs": [],
   "source": [
    "#removing the processed columns\n",
    "pred_clean.drop(['p1', 'p1_conf', 'p1_dog', 'p2', 'p2_conf', 'p2_dog',\n",
    "         'p3', 'p3_conf', 'p3_dog',], axis=1, inplace=True)"
   ]
  },
  {
   "cell_type": "markdown",
   "metadata": {},
   "source": [
    "##### Test"
   ]
  },
  {
   "cell_type": "code",
   "execution_count": 62,
   "metadata": {},
   "outputs": [
    {
     "data": {
      "text/html": [
       "<div>\n",
       "<style scoped>\n",
       "    .dataframe tbody tr th:only-of-type {\n",
       "        vertical-align: middle;\n",
       "    }\n",
       "\n",
       "    .dataframe tbody tr th {\n",
       "        vertical-align: top;\n",
       "    }\n",
       "\n",
       "    .dataframe thead th {\n",
       "        text-align: right;\n",
       "    }\n",
       "</style>\n",
       "<table border=\"1\" class=\"dataframe\">\n",
       "  <thead>\n",
       "    <tr style=\"text-align: right;\">\n",
       "      <th></th>\n",
       "      <th>tweet_id</th>\n",
       "      <th>jpg_url</th>\n",
       "      <th>img_num</th>\n",
       "      <th>breed</th>\n",
       "      <th>confidence</th>\n",
       "    </tr>\n",
       "  </thead>\n",
       "  <tbody>\n",
       "    <tr>\n",
       "      <th>0</th>\n",
       "      <td>666020888022790149</td>\n",
       "      <td>https://pbs.twimg.com/media/CT4udn0WwAA0aMy.jpg</td>\n",
       "      <td>1</td>\n",
       "      <td>Welsh_springer_spaniel</td>\n",
       "      <td>0.465074</td>\n",
       "    </tr>\n",
       "    <tr>\n",
       "      <th>1</th>\n",
       "      <td>666029285002620928</td>\n",
       "      <td>https://pbs.twimg.com/media/CT42GRgUYAA5iDo.jpg</td>\n",
       "      <td>1</td>\n",
       "      <td>redbone</td>\n",
       "      <td>0.506826</td>\n",
       "    </tr>\n",
       "    <tr>\n",
       "      <th>2</th>\n",
       "      <td>666033412701032449</td>\n",
       "      <td>https://pbs.twimg.com/media/CT4521TWwAEvMyu.jpg</td>\n",
       "      <td>1</td>\n",
       "      <td>German_shepherd</td>\n",
       "      <td>0.596461</td>\n",
       "    </tr>\n",
       "    <tr>\n",
       "      <th>3</th>\n",
       "      <td>666044226329800704</td>\n",
       "      <td>https://pbs.twimg.com/media/CT5Dr8HUEAA-lEu.jpg</td>\n",
       "      <td>1</td>\n",
       "      <td>Rhodesian_ridgeback</td>\n",
       "      <td>0.408143</td>\n",
       "    </tr>\n",
       "    <tr>\n",
       "      <th>4</th>\n",
       "      <td>666049248165822465</td>\n",
       "      <td>https://pbs.twimg.com/media/CT5IQmsXIAAKY4A.jpg</td>\n",
       "      <td>1</td>\n",
       "      <td>miniature_pinscher</td>\n",
       "      <td>0.560311</td>\n",
       "    </tr>\n",
       "  </tbody>\n",
       "</table>\n",
       "</div>"
      ],
      "text/plain": [
       "             tweet_id                                          jpg_url  \\\n",
       "0  666020888022790149  https://pbs.twimg.com/media/CT4udn0WwAA0aMy.jpg   \n",
       "1  666029285002620928  https://pbs.twimg.com/media/CT42GRgUYAA5iDo.jpg   \n",
       "2  666033412701032449  https://pbs.twimg.com/media/CT4521TWwAEvMyu.jpg   \n",
       "3  666044226329800704  https://pbs.twimg.com/media/CT5Dr8HUEAA-lEu.jpg   \n",
       "4  666049248165822465  https://pbs.twimg.com/media/CT5IQmsXIAAKY4A.jpg   \n",
       "\n",
       "   img_num                   breed  confidence  \n",
       "0        1  Welsh_springer_spaniel    0.465074  \n",
       "1        1                 redbone    0.506826  \n",
       "2        1         German_shepherd    0.596461  \n",
       "3        1     Rhodesian_ridgeback    0.408143  \n",
       "4        1      miniature_pinscher    0.560311  "
      ]
     },
     "execution_count": 62,
     "metadata": {},
     "output_type": "execute_result"
    }
   ],
   "source": [
    "pred_clean.head()"
   ]
  },
  {
   "cell_type": "code",
   "execution_count": 63,
   "metadata": {},
   "outputs": [
    {
     "name": "stdout",
     "output_type": "stream",
     "text": [
      "<class 'pandas.core.frame.DataFrame'>\n",
      "RangeIndex: 2075 entries, 0 to 2074\n",
      "Data columns (total 5 columns):\n",
      "tweet_id      2075 non-null int64\n",
      "jpg_url       2075 non-null object\n",
      "img_num       2075 non-null int64\n",
      "breed         2075 non-null object\n",
      "confidence    2075 non-null float64\n",
      "dtypes: float64(1), int64(2), object(2)\n",
      "memory usage: 81.1+ KB\n"
     ]
    }
   ],
   "source": [
    "pred_clean.info()"
   ]
  },
  {
   "cell_type": "code",
   "execution_count": 64,
   "metadata": {},
   "outputs": [
    {
     "data": {
      "text/plain": [
       "Unidentifiable                    324\n",
       "golden_retriever                  173\n",
       "Labrador_retriever                113\n",
       "Pembroke                           96\n",
       "Chihuahua                          95\n",
       "pug                                65\n",
       "toy_poodle                         52\n",
       "chow                               51\n",
       "Samoyed                            46\n",
       "Pomeranian                         42\n",
       "cocker_spaniel                     34\n",
       "malamute                           34\n",
       "French_bulldog                     32\n",
       "Chesapeake_Bay_retriever           31\n",
       "miniature_pinscher                 26\n",
       "Cardigan                           23\n",
       "Staffordshire_bullterrier          22\n",
       "Eskimo_dog                         22\n",
       "German_shepherd                    21\n",
       "beagle                             21\n",
       "Shih-Tzu                           20\n",
       "Siberian_husky                     20\n",
       "Shetland_sheepdog                  19\n",
       "kuvasz                             19\n",
       "Lakeland_terrier                   19\n",
       "Rottweiler                         19\n",
       "Maltese_dog                        19\n",
       "Italian_greyhound                  17\n",
       "basset                             17\n",
       "American_Staffordshire_terrier     16\n",
       "                                 ... \n",
       "Gordon_setter                       4\n",
       "keeshond                            4\n",
       "giant_schnauzer                     4\n",
       "Afghan_hound                        4\n",
       "Rhodesian_ridgeback                 4\n",
       "Scottish_deerhound                  4\n",
       "bluetick                            4\n",
       "Leonberg                            3\n",
       "Irish_water_spaniel                 3\n",
       "toy_terrier                         3\n",
       "cairn                               3\n",
       "curly-coated_retriever              3\n",
       "Brabancon_griffon                   3\n",
       "briard                              3\n",
       "komondor                            3\n",
       "Greater_Swiss_Mountain_dog          3\n",
       "black-and-tan_coonhound             2\n",
       "wire-haired_fox_terrier             2\n",
       "Australian_terrier                  2\n",
       "Sussex_spaniel                      2\n",
       "groenendael                         2\n",
       "Appenzeller                         2\n",
       "EntleBucher                         1\n",
       "Bouvier_des_Flandres                1\n",
       "Irish_wolfhound                     1\n",
       "standard_schnauzer                  1\n",
       "Japanese_spaniel                    1\n",
       "Scotch_terrier                      1\n",
       "silky_terrier                       1\n",
       "clumber                             1\n",
       "Name: breed, Length: 114, dtype: int64"
      ]
     },
     "execution_count": 64,
     "metadata": {},
     "output_type": "execute_result"
    }
   ],
   "source": [
    "pred_clean.breed.value_counts()"
   ]
  },
  {
   "cell_type": "markdown",
   "metadata": {},
   "source": [
    "#### 4- Joining breed column with twitter_archive table\n",
    "##### Define \n",
    "merge breed column  with twitter_archive table by tweet_id\n",
    "\n",
    "##### Code"
   ]
  },
  {
   "cell_type": "code",
   "execution_count": 65,
   "metadata": {},
   "outputs": [],
   "source": [
    "df_clean = pd.merge(df_clean, pred_clean, on=['tweet_id'],how = 'left')\n",
    "df_clean = df_clean.drop(['jpg_url', 'img_num'], axis=1)"
   ]
  },
  {
   "cell_type": "code",
   "execution_count": 68,
   "metadata": {},
   "outputs": [],
   "source": [
    "#Convert Unidentifiable to Null\n",
    "df_clean['breed'].replace('Unidentifiable',np.NaN, inplace =True)"
   ]
  },
  {
   "cell_type": "markdown",
   "metadata": {},
   "source": [
    "##### Test"
   ]
  },
  {
   "cell_type": "code",
   "execution_count": 69,
   "metadata": {},
   "outputs": [
    {
     "data": {
      "text/html": [
       "<div>\n",
       "<style scoped>\n",
       "    .dataframe tbody tr th:only-of-type {\n",
       "        vertical-align: middle;\n",
       "    }\n",
       "\n",
       "    .dataframe tbody tr th {\n",
       "        vertical-align: top;\n",
       "    }\n",
       "\n",
       "    .dataframe thead th {\n",
       "        text-align: right;\n",
       "    }\n",
       "</style>\n",
       "<table border=\"1\" class=\"dataframe\">\n",
       "  <thead>\n",
       "    <tr style=\"text-align: right;\">\n",
       "      <th></th>\n",
       "      <th>tweet_id</th>\n",
       "      <th>timestamp</th>\n",
       "      <th>source</th>\n",
       "      <th>name</th>\n",
       "      <th>stage</th>\n",
       "      <th>breed</th>\n",
       "      <th>confidence</th>\n",
       "    </tr>\n",
       "  </thead>\n",
       "  <tbody>\n",
       "    <tr>\n",
       "      <th>0</th>\n",
       "      <td>892420643555336193</td>\n",
       "      <td>2017-08-01 16:23:56 +0000</td>\n",
       "      <td>&lt;a href=\"http://twitter.com/download/iphone\" r...</td>\n",
       "      <td>Phineas</td>\n",
       "      <td>NaN</td>\n",
       "      <td>NaN</td>\n",
       "      <td>0.000000</td>\n",
       "    </tr>\n",
       "    <tr>\n",
       "      <th>1</th>\n",
       "      <td>892177421306343426</td>\n",
       "      <td>2017-08-01 00:17:27 +0000</td>\n",
       "      <td>&lt;a href=\"http://twitter.com/download/iphone\" r...</td>\n",
       "      <td>Tilly</td>\n",
       "      <td>NaN</td>\n",
       "      <td>Chihuahua</td>\n",
       "      <td>0.323581</td>\n",
       "    </tr>\n",
       "    <tr>\n",
       "      <th>2</th>\n",
       "      <td>891815181378084864</td>\n",
       "      <td>2017-07-31 00:18:03 +0000</td>\n",
       "      <td>&lt;a href=\"http://twitter.com/download/iphone\" r...</td>\n",
       "      <td>Archie</td>\n",
       "      <td>NaN</td>\n",
       "      <td>Chihuahua</td>\n",
       "      <td>0.716012</td>\n",
       "    </tr>\n",
       "    <tr>\n",
       "      <th>3</th>\n",
       "      <td>891689557279858688</td>\n",
       "      <td>2017-07-30 15:58:51 +0000</td>\n",
       "      <td>&lt;a href=\"http://twitter.com/download/iphone\" r...</td>\n",
       "      <td>Darla</td>\n",
       "      <td>NaN</td>\n",
       "      <td>Labrador_retriever</td>\n",
       "      <td>0.168086</td>\n",
       "    </tr>\n",
       "    <tr>\n",
       "      <th>4</th>\n",
       "      <td>891327558926688256</td>\n",
       "      <td>2017-07-29 16:00:24 +0000</td>\n",
       "      <td>&lt;a href=\"http://twitter.com/download/iphone\" r...</td>\n",
       "      <td>Franklin</td>\n",
       "      <td>NaN</td>\n",
       "      <td>basset</td>\n",
       "      <td>0.555712</td>\n",
       "    </tr>\n",
       "  </tbody>\n",
       "</table>\n",
       "</div>"
      ],
      "text/plain": [
       "             tweet_id                  timestamp  \\\n",
       "0  892420643555336193  2017-08-01 16:23:56 +0000   \n",
       "1  892177421306343426  2017-08-01 00:17:27 +0000   \n",
       "2  891815181378084864  2017-07-31 00:18:03 +0000   \n",
       "3  891689557279858688  2017-07-30 15:58:51 +0000   \n",
       "4  891327558926688256  2017-07-29 16:00:24 +0000   \n",
       "\n",
       "                                              source      name stage  \\\n",
       "0  <a href=\"http://twitter.com/download/iphone\" r...   Phineas   NaN   \n",
       "1  <a href=\"http://twitter.com/download/iphone\" r...     Tilly   NaN   \n",
       "2  <a href=\"http://twitter.com/download/iphone\" r...    Archie   NaN   \n",
       "3  <a href=\"http://twitter.com/download/iphone\" r...     Darla   NaN   \n",
       "4  <a href=\"http://twitter.com/download/iphone\" r...  Franklin   NaN   \n",
       "\n",
       "                breed  confidence  \n",
       "0                 NaN    0.000000  \n",
       "1           Chihuahua    0.323581  \n",
       "2           Chihuahua    0.716012  \n",
       "3  Labrador_retriever    0.168086  \n",
       "4              basset    0.555712  "
      ]
     },
     "execution_count": 69,
     "metadata": {},
     "output_type": "execute_result"
    }
   ],
   "source": [
    "df_clean.head()"
   ]
  },
  {
   "cell_type": "code",
   "execution_count": 71,
   "metadata": {},
   "outputs": [
    {
     "name": "stdout",
     "output_type": "stream",
     "text": [
      "<class 'pandas.core.frame.DataFrame'>\n",
      "Int64Index: 2356 entries, 0 to 2355\n",
      "Data columns (total 7 columns):\n",
      "tweet_id      2356 non-null int64\n",
      "timestamp     2356 non-null object\n",
      "source        2356 non-null object\n",
      "name          1611 non-null object\n",
      "stage         366 non-null object\n",
      "breed         1751 non-null object\n",
      "confidence    2075 non-null float64\n",
      "dtypes: float64(1), int64(1), object(5)\n",
      "memory usage: 147.2+ KB\n"
     ]
    }
   ],
   "source": [
    "df_clean.info()"
   ]
  },
  {
   "cell_type": "code",
   "execution_count": 72,
   "metadata": {},
   "outputs": [
    {
     "data": {
      "text/plain": [
       "golden_retriever                  173\n",
       "Labrador_retriever                113\n",
       "Pembroke                           96\n",
       "Chihuahua                          95\n",
       "pug                                65\n",
       "toy_poodle                         52\n",
       "chow                               51\n",
       "Samoyed                            46\n",
       "Pomeranian                         42\n",
       "cocker_spaniel                     34\n",
       "malamute                           34\n",
       "French_bulldog                     32\n",
       "Chesapeake_Bay_retriever           31\n",
       "miniature_pinscher                 26\n",
       "Cardigan                           23\n",
       "Staffordshire_bullterrier          22\n",
       "Eskimo_dog                         22\n",
       "German_shepherd                    21\n",
       "beagle                             21\n",
       "Shih-Tzu                           20\n",
       "Siberian_husky                     20\n",
       "Maltese_dog                        19\n",
       "kuvasz                             19\n",
       "Shetland_sheepdog                  19\n",
       "Lakeland_terrier                   19\n",
       "Rottweiler                         19\n",
       "Italian_greyhound                  17\n",
       "basset                             17\n",
       "West_Highland_white_terrier        16\n",
       "American_Staffordshire_terrier     16\n",
       "                                 ... \n",
       "Tibetan_terrier                     4\n",
       "Welsh_springer_spaniel              4\n",
       "Rhodesian_ridgeback                 4\n",
       "giant_schnauzer                     4\n",
       "Saluki                              4\n",
       "Weimaraner                          4\n",
       "keeshond                            4\n",
       "cairn                               3\n",
       "komondor                            3\n",
       "briard                              3\n",
       "Greater_Swiss_Mountain_dog          3\n",
       "Leonberg                            3\n",
       "curly-coated_retriever              3\n",
       "toy_terrier                         3\n",
       "Irish_water_spaniel                 3\n",
       "Brabancon_griffon                   3\n",
       "Appenzeller                         2\n",
       "black-and-tan_coonhound             2\n",
       "Sussex_spaniel                      2\n",
       "wire-haired_fox_terrier             2\n",
       "groenendael                         2\n",
       "Australian_terrier                  2\n",
       "Irish_wolfhound                     1\n",
       "silky_terrier                       1\n",
       "Japanese_spaniel                    1\n",
       "Bouvier_des_Flandres                1\n",
       "clumber                             1\n",
       "Scotch_terrier                      1\n",
       "EntleBucher                         1\n",
       "standard_schnauzer                  1\n",
       "Name: breed, Length: 113, dtype: int64"
      ]
     },
     "execution_count": 72,
     "metadata": {},
     "output_type": "execute_result"
    }
   ],
   "source": [
    "df_clean.breed.value_counts()"
   ]
  },
  {
   "cell_type": "markdown",
   "metadata": {},
   "source": [
    "#### 5- Joining retweet_count and favorite_count columns from status_df  with twitter_archive table\n",
    "\n",
    "##### Define \n",
    "\n",
    "merge retweet_count and favorite_count with twitter_archive table by tweet_id\n",
    "\n",
    "##### Code"
   ]
  },
  {
   "cell_type": "code",
   "execution_count": 73,
   "metadata": {},
   "outputs": [],
   "source": [
    "df_clean = pd.merge(df_clean, status_df, on=['tweet_id'],how = 'left')"
   ]
  },
  {
   "cell_type": "markdown",
   "metadata": {},
   "source": [
    "##### Test"
   ]
  },
  {
   "cell_type": "code",
   "execution_count": 74,
   "metadata": {},
   "outputs": [
    {
     "data": {
      "text/html": [
       "<div>\n",
       "<style scoped>\n",
       "    .dataframe tbody tr th:only-of-type {\n",
       "        vertical-align: middle;\n",
       "    }\n",
       "\n",
       "    .dataframe tbody tr th {\n",
       "        vertical-align: top;\n",
       "    }\n",
       "\n",
       "    .dataframe thead th {\n",
       "        text-align: right;\n",
       "    }\n",
       "</style>\n",
       "<table border=\"1\" class=\"dataframe\">\n",
       "  <thead>\n",
       "    <tr style=\"text-align: right;\">\n",
       "      <th></th>\n",
       "      <th>tweet_id</th>\n",
       "      <th>timestamp</th>\n",
       "      <th>source</th>\n",
       "      <th>name</th>\n",
       "      <th>stage</th>\n",
       "      <th>breed</th>\n",
       "      <th>confidence</th>\n",
       "      <th>retweet_count</th>\n",
       "      <th>favorite_count</th>\n",
       "    </tr>\n",
       "  </thead>\n",
       "  <tbody>\n",
       "    <tr>\n",
       "      <th>0</th>\n",
       "      <td>892420643555336193</td>\n",
       "      <td>2017-08-01 16:23:56 +0000</td>\n",
       "      <td>&lt;a href=\"http://twitter.com/download/iphone\" r...</td>\n",
       "      <td>Phineas</td>\n",
       "      <td>NaN</td>\n",
       "      <td>NaN</td>\n",
       "      <td>0.000000</td>\n",
       "      <td>7976.0</td>\n",
       "      <td>37218.0</td>\n",
       "    </tr>\n",
       "    <tr>\n",
       "      <th>1</th>\n",
       "      <td>892177421306343426</td>\n",
       "      <td>2017-08-01 00:17:27 +0000</td>\n",
       "      <td>&lt;a href=\"http://twitter.com/download/iphone\" r...</td>\n",
       "      <td>Tilly</td>\n",
       "      <td>NaN</td>\n",
       "      <td>Chihuahua</td>\n",
       "      <td>0.323581</td>\n",
       "      <td>5916.0</td>\n",
       "      <td>32011.0</td>\n",
       "    </tr>\n",
       "    <tr>\n",
       "      <th>2</th>\n",
       "      <td>891815181378084864</td>\n",
       "      <td>2017-07-31 00:18:03 +0000</td>\n",
       "      <td>&lt;a href=\"http://twitter.com/download/iphone\" r...</td>\n",
       "      <td>Archie</td>\n",
       "      <td>NaN</td>\n",
       "      <td>Chihuahua</td>\n",
       "      <td>0.716012</td>\n",
       "      <td>3911.0</td>\n",
       "      <td>24103.0</td>\n",
       "    </tr>\n",
       "    <tr>\n",
       "      <th>3</th>\n",
       "      <td>891689557279858688</td>\n",
       "      <td>2017-07-30 15:58:51 +0000</td>\n",
       "      <td>&lt;a href=\"http://twitter.com/download/iphone\" r...</td>\n",
       "      <td>Darla</td>\n",
       "      <td>NaN</td>\n",
       "      <td>Labrador_retriever</td>\n",
       "      <td>0.168086</td>\n",
       "      <td>8120.0</td>\n",
       "      <td>40529.0</td>\n",
       "    </tr>\n",
       "    <tr>\n",
       "      <th>4</th>\n",
       "      <td>891327558926688256</td>\n",
       "      <td>2017-07-29 16:00:24 +0000</td>\n",
       "      <td>&lt;a href=\"http://twitter.com/download/iphone\" r...</td>\n",
       "      <td>Franklin</td>\n",
       "      <td>NaN</td>\n",
       "      <td>basset</td>\n",
       "      <td>0.555712</td>\n",
       "      <td>8806.0</td>\n",
       "      <td>38760.0</td>\n",
       "    </tr>\n",
       "  </tbody>\n",
       "</table>\n",
       "</div>"
      ],
      "text/plain": [
       "             tweet_id                  timestamp  \\\n",
       "0  892420643555336193  2017-08-01 16:23:56 +0000   \n",
       "1  892177421306343426  2017-08-01 00:17:27 +0000   \n",
       "2  891815181378084864  2017-07-31 00:18:03 +0000   \n",
       "3  891689557279858688  2017-07-30 15:58:51 +0000   \n",
       "4  891327558926688256  2017-07-29 16:00:24 +0000   \n",
       "\n",
       "                                              source      name stage  \\\n",
       "0  <a href=\"http://twitter.com/download/iphone\" r...   Phineas   NaN   \n",
       "1  <a href=\"http://twitter.com/download/iphone\" r...     Tilly   NaN   \n",
       "2  <a href=\"http://twitter.com/download/iphone\" r...    Archie   NaN   \n",
       "3  <a href=\"http://twitter.com/download/iphone\" r...     Darla   NaN   \n",
       "4  <a href=\"http://twitter.com/download/iphone\" r...  Franklin   NaN   \n",
       "\n",
       "                breed  confidence  retweet_count  favorite_count  \n",
       "0                 NaN    0.000000         7976.0         37218.0  \n",
       "1           Chihuahua    0.323581         5916.0         32011.0  \n",
       "2           Chihuahua    0.716012         3911.0         24103.0  \n",
       "3  Labrador_retriever    0.168086         8120.0         40529.0  \n",
       "4              basset    0.555712         8806.0         38760.0  "
      ]
     },
     "execution_count": 74,
     "metadata": {},
     "output_type": "execute_result"
    }
   ],
   "source": [
    "df_clean.head()"
   ]
  },
  {
   "cell_type": "code",
   "execution_count": 75,
   "metadata": {},
   "outputs": [
    {
     "name": "stdout",
     "output_type": "stream",
     "text": [
      "<class 'pandas.core.frame.DataFrame'>\n",
      "Int64Index: 2356 entries, 0 to 2355\n",
      "Data columns (total 9 columns):\n",
      "tweet_id          2356 non-null int64\n",
      "timestamp         2356 non-null object\n",
      "source            2356 non-null object\n",
      "name              1611 non-null object\n",
      "stage             366 non-null object\n",
      "breed             1751 non-null object\n",
      "confidence        2075 non-null float64\n",
      "retweet_count     2333 non-null float64\n",
      "favorite_count    2333 non-null float64\n",
      "dtypes: float64(3), int64(1), object(5)\n",
      "memory usage: 184.1+ KB\n"
     ]
    }
   ],
   "source": [
    "df_clean.info()"
   ]
  },
  {
   "cell_type": "markdown",
   "metadata": {},
   "source": [
    "### Quality\n",
    "\n",
    "#### 6- tweet_id is an integer not a string and timestamp is object not date\n",
    "\n",
    "##### Define \n",
    " use astype to convert integers to strings and object to date\n",
    " \n",
    "##### Code\n"
   ]
  },
  {
   "cell_type": "code",
   "execution_count": 79,
   "metadata": {},
   "outputs": [],
   "source": [
    "# tweet_id is an integer not a string.\n",
    "df_clean['tweet_id'] = df_clean['tweet_id'].astype(str)\n",
    "pred_clean['tweet_id'] = pred_clean['tweet_id'].astype(str)\n",
    "status_clean['tweet_id'] = pred_clean['tweet_id'].astype(str)\n",
    "\n",
    "# timestamp to date\n",
    "df_clean['timestamp'] = pd.to_datetime(df_clean['timestamp']).dt.strftime('%Y-%m-%d')\n",
    "df_clean['timestamp'] = pd.to_datetime(df_clean['timestamp'])"
   ]
  },
  {
   "cell_type": "markdown",
   "metadata": {},
   "source": [
    "##### Test"
   ]
  },
  {
   "cell_type": "code",
   "execution_count": 120,
   "metadata": {},
   "outputs": [
    {
     "name": "stdout",
     "output_type": "stream",
     "text": [
      "<class 'pandas.core.frame.DataFrame'>\n",
      "Int64Index: 2356 entries, 0 to 2355\n",
      "Data columns (total 9 columns):\n",
      "tweet_id          2356 non-null object\n",
      "timestamp         2356 non-null datetime64[ns]\n",
      "source            2356 non-null category\n",
      "name              1502 non-null object\n",
      "stage             366 non-null object\n",
      "breed             1751 non-null object\n",
      "confidence        2075 non-null float64\n",
      "retweet_count     2333 non-null float64\n",
      "favorite_count    2333 non-null float64\n",
      "dtypes: category(1), datetime64[ns](1), float64(3), object(4)\n",
      "memory usage: 248.1+ KB\n",
      "-----\n",
      "<class 'pandas.core.frame.DataFrame'>\n",
      "RangeIndex: 2075 entries, 0 to 2074\n",
      "Data columns (total 5 columns):\n",
      "tweet_id      2075 non-null object\n",
      "jpg_url       2075 non-null object\n",
      "img_num       2075 non-null int64\n",
      "breed         2075 non-null object\n",
      "confidence    2075 non-null float64\n",
      "dtypes: float64(1), int64(1), object(3)\n",
      "memory usage: 80.6+ KB\n",
      "-----\n",
      "<class 'pandas.core.frame.DataFrame'>\n",
      "RangeIndex: 2333 entries, 0 to 2332\n",
      "Data columns (total 3 columns):\n",
      "tweet_id          2075 non-null object\n",
      "retweet_count     2333 non-null int64\n",
      "favorite_count    2333 non-null int64\n",
      "dtypes: int64(2), object(1)\n",
      "memory usage: 54.8+ KB\n"
     ]
    }
   ],
   "source": [
    "df_clean.info()\n",
    "print('-'*5)\n",
    "pred_clean.info()\n",
    "print('-'*5)\n",
    "status_clean.info()"
   ]
  },
  {
   "cell_type": "code",
   "execution_count": null,
   "metadata": {},
   "outputs": [],
   "source": [
    "df_clean.head()"
   ]
  },
  {
   "cell_type": "markdown",
   "metadata": {},
   "source": [
    "#### 7- some breeds start with uppercase.\n",
    "\n",
    "##### Define \n",
    "use .str.lower() to change the uppercase to lowercase\n",
    "\n",
    "##### Code"
   ]
  },
  {
   "cell_type": "code",
   "execution_count": 81,
   "metadata": {},
   "outputs": [],
   "source": [
    "#some breeds start with uppercase.\n",
    "df_clean.breed = df_clean.breed.str.lower()"
   ]
  },
  {
   "cell_type": "markdown",
   "metadata": {},
   "source": [
    "##### Test"
   ]
  },
  {
   "cell_type": "code",
   "execution_count": 82,
   "metadata": {},
   "outputs": [
    {
     "data": {
      "text/plain": [
       "1870                    chow\n",
       "1866                  borzoi\n",
       "1307    bernese_mountain_dog\n",
       "2132                     NaN\n",
       "2146                     NaN\n",
       "Name: breed, dtype: object"
      ]
     },
     "execution_count": 82,
     "metadata": {},
     "output_type": "execute_result"
    }
   ],
   "source": [
    "df_clean.breed.sample(5)"
   ]
  },
  {
   "cell_type": "markdown",
   "metadata": {},
   "source": [
    "#### 8- 66 duplicated jpg_url  \n",
    "##### Define\n",
    "use .drop_duplicates to drop 66 duplicated jpg_url\n",
    "\n",
    "##### Code"
   ]
  },
  {
   "cell_type": "code",
   "execution_count": 83,
   "metadata": {},
   "outputs": [],
   "source": [
    "pred_clean['jpg_url'].drop_duplicates(inplace = True)"
   ]
  },
  {
   "cell_type": "markdown",
   "metadata": {},
   "source": [
    "##### Test"
   ]
  },
  {
   "cell_type": "code",
   "execution_count": 84,
   "metadata": {},
   "outputs": [
    {
     "data": {
      "text/plain": [
       "0"
      ]
     },
     "execution_count": 84,
     "metadata": {},
     "output_type": "execute_result"
    }
   ],
   "source": [
    "sum(pred_clean.jpg_url.duplicated())"
   ]
  },
  {
   "cell_type": "code",
   "execution_count": null,
   "metadata": {},
   "outputs": [],
   "source": [
    "pred_clean.info()"
   ]
  },
  {
   "cell_type": "markdown",
   "metadata": {},
   "source": [
    "#### 9- Unnecessary html tags in source column \n",
    "##### Define\n",
    "strip all html anchor tags (i.e. <a..></a>) in source column and retain just the text in between the tags. Convert the datatype from string to categorical.\n",
    "##### Code"
   ]
  },
  {
   "cell_type": "code",
   "execution_count": 85,
   "metadata": {},
   "outputs": [],
   "source": [
    "df_clean.source = df_clean.source.str.replace(r'<(?:a\\b[^>]*>|/a>)', '')\n",
    "df_clean.source = df_clean.source.astype('category')"
   ]
  },
  {
   "cell_type": "markdown",
   "metadata": {},
   "source": [
    "##### Test"
   ]
  },
  {
   "cell_type": "code",
   "execution_count": 86,
   "metadata": {},
   "outputs": [
    {
     "data": {
      "text/plain": [
       "Twitter for iPhone     2221\n",
       "Vine - Make a Scene      91\n",
       "Twitter Web Client       33\n",
       "TweetDeck                11\n",
       "Name: source, dtype: int64"
      ]
     },
     "execution_count": 86,
     "metadata": {},
     "output_type": "execute_result"
    }
   ],
   "source": [
    "df_clean.source.value_counts()"
   ]
  },
  {
   "cell_type": "code",
   "execution_count": 88,
   "metadata": {},
   "outputs": [
    {
     "data": {
      "text/plain": [
       "483     Twitter for iPhone\n",
       "546     Twitter for iPhone\n",
       "1782    Twitter for iPhone\n",
       "917     Twitter for iPhone\n",
       "219     Twitter for iPhone\n",
       "Name: source, dtype: category\n",
       "Categories (4, object): [TweetDeck, Twitter Web Client, Twitter for iPhone, Vine - Make a Scene]"
      ]
     },
     "execution_count": 88,
     "metadata": {},
     "output_type": "execute_result"
    }
   ],
   "source": [
    "df_clean.source.sample(5)"
   ]
  },
  {
   "cell_type": "markdown",
   "metadata": {},
   "source": [
    "#### 10- a,an,the and by as names\n",
    "##### Define \n",
    "replace a,an,the and by  with np.nan\n",
    "##### Code"
   ]
  },
  {
   "cell_type": "code",
   "execution_count": 89,
   "metadata": {},
   "outputs": [
    {
     "name": "stdout",
     "output_type": "stream",
     "text": [
      "['such', 'a', 'quite', 'not', 'one', 'incredibly', 'mad', 'an', 'very', 'just', 'my', 'his', 'actually', 'getting', 'this', 'unacceptable', 'all', 'old', 'infuriating', 'the', 'by', 'officially', 'life', 'light', 'space']\n"
     ]
    }
   ],
   "source": [
    "df_clean['name'].replace(np.nan,'None',inplace=True)\n",
    "# Find all names that start with a lowercase letter\n",
    "lowercase_names = []\n",
    "for word in df_clean['name']:\n",
    "    if word[0].islower() and word not in lowercase_names:\n",
    "        lowercase_names.append(word)\n",
    "print(lowercase_names)"
   ]
  },
  {
   "cell_type": "code",
   "execution_count": 90,
   "metadata": {},
   "outputs": [],
   "source": [
    "# Replace all names that start with a lowercase letter with a NaN\n",
    "df_clean['name'].replace(lowercase_names, \n",
    "                        np.nan,\n",
    "                       inplace = True)\n",
    "\n",
    "# Replace all 'None's with a NaN\n",
    "df_clean['name'].replace('None', \n",
    "                        np.nan,\n",
    "                       inplace = True)"
   ]
  },
  {
   "cell_type": "markdown",
   "metadata": {},
   "source": [
    "##### Test"
   ]
  },
  {
   "cell_type": "code",
   "execution_count": 91,
   "metadata": {},
   "outputs": [
    {
     "data": {
      "text/plain": [
       "Charlie     12\n",
       "Cooper      11\n",
       "Lucy        11\n",
       "Oliver      11\n",
       "Penny       10\n",
       "Tucker      10\n",
       "Lola        10\n",
       "Winston      9\n",
       "Bo           9\n",
       "Sadie        8\n",
       "Bailey       7\n",
       "Daisy        7\n",
       "Toby         7\n",
       "Buddy        7\n",
       "Milo         6\n",
       "Scout        6\n",
       "Stanley      6\n",
       "Leo          6\n",
       "Koda         6\n",
       "Rusty        6\n",
       "Oscar        6\n",
       "Jax          6\n",
       "Dave         6\n",
       "Bella        6\n",
       "Jack         6\n",
       "Chester      5\n",
       "Sunny        5\n",
       "Louis        5\n",
       "Sammy        5\n",
       "Larry        5\n",
       "            ..\n",
       "Shooter      1\n",
       "Newt         1\n",
       "Jockson      1\n",
       "Kenzie       1\n",
       "Doobert      1\n",
       "Obie         1\n",
       "Ron          1\n",
       "Rueben       1\n",
       "Fabio        1\n",
       "Autumn       1\n",
       "Noah         1\n",
       "Cuddles      1\n",
       "Jazz         1\n",
       "Snickers     1\n",
       "Zeus         1\n",
       "Brockly      1\n",
       "Vince        1\n",
       "Binky        1\n",
       "Tug          1\n",
       "Kendall      1\n",
       "Major        1\n",
       "Mya          1\n",
       "Wishes       1\n",
       "Lance        1\n",
       "Daniel       1\n",
       "Torque       1\n",
       "Fletcher     1\n",
       "Crouton      1\n",
       "Billl        1\n",
       "Karl         1\n",
       "Name: name, Length: 931, dtype: int64"
      ]
     },
     "execution_count": 91,
     "metadata": {},
     "output_type": "execute_result"
    }
   ],
   "source": [
    "df_clean['name'].value_counts()"
   ]
  },
  {
   "cell_type": "markdown",
   "metadata": {},
   "source": [
    "#### Storing Data"
   ]
  },
  {
   "cell_type": "code",
   "execution_count": 121,
   "metadata": {},
   "outputs": [],
   "source": [
    "df_clean.to_csv('twitter_archive_master.csv', index=False)"
   ]
  },
  {
   "cell_type": "markdown",
   "metadata": {},
   "source": [
    "## Analyzing Data\n",
    "At least three (3) insights and one (1) visualization must be produced."
   ]
  },
  {
   "cell_type": "code",
   "execution_count": 2,
   "metadata": {},
   "outputs": [],
   "source": [
    "# For analysis, create a copy of the cleaned twitter archive data\n",
    "df_master = pd.read_csv('twitter_archive_master.csv')"
   ]
  },
  {
   "cell_type": "code",
   "execution_count": 3,
   "metadata": {},
   "outputs": [],
   "source": [
    "df_master['timestamp'] = pd.to_datetime(df_master['timestamp'])"
   ]
  },
  {
   "cell_type": "code",
   "execution_count": 4,
   "metadata": {},
   "outputs": [
    {
     "name": "stdout",
     "output_type": "stream",
     "text": [
      "<class 'pandas.core.frame.DataFrame'>\n",
      "RangeIndex: 2356 entries, 0 to 2355\n",
      "Data columns (total 9 columns):\n",
      "tweet_id          2356 non-null int64\n",
      "timestamp         2356 non-null datetime64[ns]\n",
      "source            2356 non-null object\n",
      "name              1502 non-null object\n",
      "stage             366 non-null object\n",
      "breed             1751 non-null object\n",
      "confidence        2075 non-null float64\n",
      "retweet_count     2333 non-null float64\n",
      "favorite_count    2333 non-null float64\n",
      "dtypes: datetime64[ns](1), float64(3), int64(1), object(4)\n",
      "memory usage: 165.7+ KB\n"
     ]
    }
   ],
   "source": [
    "df_master.info()"
   ]
  },
  {
   "cell_type": "code",
   "execution_count": 5,
   "metadata": {},
   "outputs": [
    {
     "data": {
      "text/html": [
       "<div>\n",
       "<style scoped>\n",
       "    .dataframe tbody tr th:only-of-type {\n",
       "        vertical-align: middle;\n",
       "    }\n",
       "\n",
       "    .dataframe tbody tr th {\n",
       "        vertical-align: top;\n",
       "    }\n",
       "\n",
       "    .dataframe thead th {\n",
       "        text-align: right;\n",
       "    }\n",
       "</style>\n",
       "<table border=\"1\" class=\"dataframe\">\n",
       "  <thead>\n",
       "    <tr style=\"text-align: right;\">\n",
       "      <th></th>\n",
       "      <th>tweet_id</th>\n",
       "      <th>timestamp</th>\n",
       "      <th>source</th>\n",
       "      <th>name</th>\n",
       "      <th>stage</th>\n",
       "      <th>breed</th>\n",
       "      <th>confidence</th>\n",
       "      <th>retweet_count</th>\n",
       "      <th>favorite_count</th>\n",
       "    </tr>\n",
       "  </thead>\n",
       "  <tbody>\n",
       "    <tr>\n",
       "      <th>0</th>\n",
       "      <td>892420643555336193</td>\n",
       "      <td>2017-08-01</td>\n",
       "      <td>Twitter for iPhone</td>\n",
       "      <td>Phineas</td>\n",
       "      <td>NaN</td>\n",
       "      <td>NaN</td>\n",
       "      <td>0.000000</td>\n",
       "      <td>7976.0</td>\n",
       "      <td>37218.0</td>\n",
       "    </tr>\n",
       "    <tr>\n",
       "      <th>1</th>\n",
       "      <td>892177421306343426</td>\n",
       "      <td>2017-08-01</td>\n",
       "      <td>Twitter for iPhone</td>\n",
       "      <td>Tilly</td>\n",
       "      <td>NaN</td>\n",
       "      <td>chihuahua</td>\n",
       "      <td>0.323581</td>\n",
       "      <td>5916.0</td>\n",
       "      <td>32011.0</td>\n",
       "    </tr>\n",
       "    <tr>\n",
       "      <th>2</th>\n",
       "      <td>891815181378084864</td>\n",
       "      <td>2017-07-31</td>\n",
       "      <td>Twitter for iPhone</td>\n",
       "      <td>Archie</td>\n",
       "      <td>NaN</td>\n",
       "      <td>chihuahua</td>\n",
       "      <td>0.716012</td>\n",
       "      <td>3911.0</td>\n",
       "      <td>24103.0</td>\n",
       "    </tr>\n",
       "    <tr>\n",
       "      <th>3</th>\n",
       "      <td>891689557279858688</td>\n",
       "      <td>2017-07-30</td>\n",
       "      <td>Twitter for iPhone</td>\n",
       "      <td>Darla</td>\n",
       "      <td>NaN</td>\n",
       "      <td>labrador_retriever</td>\n",
       "      <td>0.168086</td>\n",
       "      <td>8120.0</td>\n",
       "      <td>40529.0</td>\n",
       "    </tr>\n",
       "    <tr>\n",
       "      <th>4</th>\n",
       "      <td>891327558926688256</td>\n",
       "      <td>2017-07-29</td>\n",
       "      <td>Twitter for iPhone</td>\n",
       "      <td>Franklin</td>\n",
       "      <td>NaN</td>\n",
       "      <td>basset</td>\n",
       "      <td>0.555712</td>\n",
       "      <td>8806.0</td>\n",
       "      <td>38760.0</td>\n",
       "    </tr>\n",
       "  </tbody>\n",
       "</table>\n",
       "</div>"
      ],
      "text/plain": [
       "             tweet_id  timestamp              source      name stage  \\\n",
       "0  892420643555336193 2017-08-01  Twitter for iPhone   Phineas   NaN   \n",
       "1  892177421306343426 2017-08-01  Twitter for iPhone     Tilly   NaN   \n",
       "2  891815181378084864 2017-07-31  Twitter for iPhone    Archie   NaN   \n",
       "3  891689557279858688 2017-07-30  Twitter for iPhone     Darla   NaN   \n",
       "4  891327558926688256 2017-07-29  Twitter for iPhone  Franklin   NaN   \n",
       "\n",
       "                breed  confidence  retweet_count  favorite_count  \n",
       "0                 NaN    0.000000         7976.0         37218.0  \n",
       "1           chihuahua    0.323581         5916.0         32011.0  \n",
       "2           chihuahua    0.716012         3911.0         24103.0  \n",
       "3  labrador_retriever    0.168086         8120.0         40529.0  \n",
       "4              basset    0.555712         8806.0         38760.0  "
      ]
     },
     "execution_count": 5,
     "metadata": {},
     "output_type": "execute_result"
    }
   ],
   "source": [
    "df_master.head()"
   ]
  },
  {
   "cell_type": "markdown",
   "metadata": {},
   "source": [
    "##### Most used Twitter source"
   ]
  },
  {
   "cell_type": "code",
   "execution_count": 6,
   "metadata": {},
   "outputs": [
    {
     "data": {
      "text/plain": [
       "Twitter for iPhone     2221\n",
       "Vine - Make a Scene      91\n",
       "Twitter Web Client       33\n",
       "TweetDeck                11\n",
       "Name: source, dtype: int64"
      ]
     },
     "execution_count": 6,
     "metadata": {},
     "output_type": "execute_result"
    }
   ],
   "source": [
    "df_master['source'].value_counts()"
   ]
  },
  {
   "cell_type": "code",
   "execution_count": 20,
   "metadata": {},
   "outputs": [
    {
     "data": {
      "text/plain": [
       "<matplotlib.axes._subplots.AxesSubplot at 0x7fedc10060b8>"
      ]
     },
     "execution_count": 20,
     "metadata": {},
     "output_type": "execute_result"
    },
    {
     "data": {
      "image/png": "[encoded data removed]",
      "text/plain": [
       "<matplotlib.figure.Figure at 0x7fedc0fe06d8>"
      ]
     },
     "metadata": {
      "needs_background": "light"
     },
     "output_type": "display_data"
    }
   ],
   "source": [
    "df_master['source'].hist()"
   ]
  },
  {
   "cell_type": "code",
   "execution_count": 22,
   "metadata": {},
   "outputs": [
    {
     "data": {
      "image/png": "[encoded data removed]",
      "text/plain": [
       "<matplotlib.figure.Figure at 0x7fedc104a8d0>"
      ]
     },
     "metadata": {},
     "output_type": "display_data"
    }
   ],
   "source": [
    "# Shows the repartition of the source with a pie chart.\n",
    "explode = np.linspace(0,0.4,4)\n",
    "df_master['source'].value_counts().sort_values(ascending=False).plot.pie(legend=False, \n",
    "                                                                        subplots=True, \n",
    "                                                                        autopct='%.2f%%',\n",
    "                                                                        figsize=(10,10))\n",
    "plt.ylabel('')\n",
    "plt.title('source', weight='bold', fontsize=16)\n",
    "plt.savefig('source.png')"
   ]
  },
  {
   "cell_type": "markdown",
   "metadata": {},
   "source": [
    "Twitter for iPhone is the highest source of tweets"
   ]
  },
  {
   "cell_type": "markdown",
   "metadata": {},
   "source": [
    "#### Most Common Stage"
   ]
  },
  {
   "cell_type": "code",
   "execution_count": 8,
   "metadata": {},
   "outputs": [
    {
     "data": {
      "text/plain": [
       "pupper     245\n",
       "doggo       83\n",
       "puppo       29\n",
       "floofer      9\n",
       "Name: stage, dtype: int64"
      ]
     },
     "execution_count": 8,
     "metadata": {},
     "output_type": "execute_result"
    }
   ],
   "source": [
    "df_master['stage'].value_counts()"
   ]
  },
  {
   "cell_type": "code",
   "execution_count": 9,
   "metadata": {},
   "outputs": [
    {
     "data": {
      "image/png": "[encoded data removed]",
      "text/plain": [
       "<matplotlib.figure.Figure at 0x7fedc19f07b8>"
      ]
     },
     "metadata": {},
     "output_type": "display_data"
    }
   ],
   "source": [
    "# Shows the repartition of the dog stages with a pie chart.\n",
    "explode = np.linspace(0,0.4,4)\n",
    "df_master['stage'].value_counts().sort_values(ascending=False).plot.pie(legend=False, \n",
    "                                                                        subplots=True, \n",
    "                                                                        autopct='%.2f%%',\n",
    "                                                                        figsize=(10,10))\n",
    "plt.ylabel('')\n",
    "plt.title('dog stages', weight='bold', fontsize=16)\n",
    "plt.savefig('DogStages.png')"
   ]
  },
  {
   "cell_type": "markdown",
   "metadata": {},
   "source": [
    "Pupper is most common stage"
   ]
  },
  {
   "cell_type": "markdown",
   "metadata": {},
   "source": [
    "#### Favorites and Retweets through Time"
   ]
  },
  {
   "cell_type": "code",
   "execution_count": 32,
   "metadata": {},
   "outputs": [
    {
     "data": {
      "image/png": "[encoded data removed]",
      "text/plain": [
       "<matplotlib.figure.Figure at 0x7fedc19aaeb8>"
      ]
     },
     "metadata": {
      "needs_background": "light"
     },
     "output_type": "display_data"
    }
   ],
   "source": [
    "df_master[['favorite_count', 'retweet_count']].plot(style = '.', \n",
    "                                                    alpha = 0.4,\n",
    "                                                   figsize=(10,10))\n",
    "plt.title('Favorites and Retweets through Time')\n",
    "plt.xlabel('timestamp')\n",
    "plt.ylabel('Count');\n",
    "plt.savefig('FavoritesRetweets.png')"
   ]
  },
  {
   "cell_type": "code",
   "execution_count": 40,
   "metadata": {},
   "outputs": [
    {
     "data": {
      "text/plain": [
       "True"
      ]
     },
     "execution_count": 40,
     "metadata": {},
     "output_type": "execute_result"
    }
   ],
   "source": [
    "df_master.retweet_count.sum() < df_master.favorite_count.sum()"
   ]
  },
  {
   "cell_type": "markdown",
   "metadata": {},
   "source": [
    "Number of favorite_count is bigger than retweet_count"
   ]
  },
  {
   "cell_type": "markdown",
   "metadata": {},
   "source": [
    "#### What is  the most popular name (favorites, retweets)?"
   ]
  },
  {
   "cell_type": "code",
   "execution_count": 80,
   "metadata": {},
   "outputs": [
    {
     "data": {
      "text/html": [
       "<div>\n",
       "<style scoped>\n",
       "    .dataframe tbody tr th:only-of-type {\n",
       "        vertical-align: middle;\n",
       "    }\n",
       "\n",
       "    .dataframe tbody tr th {\n",
       "        vertical-align: top;\n",
       "    }\n",
       "\n",
       "    .dataframe thead th {\n",
       "        text-align: right;\n",
       "    }\n",
       "</style>\n",
       "<table border=\"1\" class=\"dataframe\">\n",
       "  <thead>\n",
       "    <tr style=\"text-align: right;\">\n",
       "      <th></th>\n",
       "      <th>name</th>\n",
       "      <th>retweet_count</th>\n",
       "      <th>favorite_count</th>\n",
       "    </tr>\n",
       "  </thead>\n",
       "  <tbody>\n",
       "    <tr>\n",
       "      <th>99</th>\n",
       "      <td>Bo</td>\n",
       "      <td>113720.0</td>\n",
       "      <td>175340.0</td>\n",
       "    </tr>\n",
       "    <tr>\n",
       "      <th>137</th>\n",
       "      <td>Buddy</td>\n",
       "      <td>68794.0</td>\n",
       "      <td>72847.0</td>\n",
       "    </tr>\n",
       "    <tr>\n",
       "      <th>831</th>\n",
       "      <td>Sunny</td>\n",
       "      <td>61633.0</td>\n",
       "      <td>84157.0</td>\n",
       "    </tr>\n",
       "  </tbody>\n",
       "</table>\n",
       "</div>"
      ],
      "text/plain": [
       "      name  retweet_count  favorite_count\n",
       "99      Bo       113720.0        175340.0\n",
       "137  Buddy        68794.0         72847.0\n",
       "831  Sunny        61633.0         84157.0"
      ]
     },
     "execution_count": 80,
     "metadata": {},
     "output_type": "execute_result"
    }
   ],
   "source": [
    "popular_name = df_master.groupby(['name'],as_index =False)[['retweet_count','favorite_count']].sum()\n",
    "popular_name.sort_values(by=['retweet_count','favorite_count'],ascending=False).head(3)"
   ]
  },
  {
   "cell_type": "markdown",
   "metadata": {},
   "source": [
    "Bo is the most popular name"
   ]
  },
  {
   "cell_type": "markdown",
   "metadata": {},
   "source": [
    " ##### What is the most popular breed (favorites, retweets)?"
   ]
  },
  {
   "cell_type": "code",
   "execution_count": 88,
   "metadata": {},
   "outputs": [
    {
     "data": {
      "text/html": [
       "<div>\n",
       "<style scoped>\n",
       "    .dataframe tbody tr th:only-of-type {\n",
       "        vertical-align: middle;\n",
       "    }\n",
       "\n",
       "    .dataframe tbody tr th {\n",
       "        vertical-align: top;\n",
       "    }\n",
       "\n",
       "    .dataframe thead th {\n",
       "        text-align: right;\n",
       "    }\n",
       "</style>\n",
       "<table border=\"1\" class=\"dataframe\">\n",
       "  <thead>\n",
       "    <tr style=\"text-align: right;\">\n",
       "      <th></th>\n",
       "      <th>breed</th>\n",
       "      <th>retweet_count</th>\n",
       "      <th>favorite_count</th>\n",
       "    </tr>\n",
       "  </thead>\n",
       "  <tbody>\n",
       "    <tr>\n",
       "      <th>45</th>\n",
       "      <td>golden_retriever</td>\n",
       "      <td>643964.0</td>\n",
       "      <td>1856222.0</td>\n",
       "    </tr>\n",
       "    <tr>\n",
       "      <th>62</th>\n",
       "      <td>labrador_retriever</td>\n",
       "      <td>415362.0</td>\n",
       "      <td>1161577.0</td>\n",
       "    </tr>\n",
       "    <tr>\n",
       "      <th>80</th>\n",
       "      <td>pembroke</td>\n",
       "      <td>267162.0</td>\n",
       "      <td>995817.0</td>\n",
       "    </tr>\n",
       "  </tbody>\n",
       "</table>\n",
       "</div>"
      ],
      "text/plain": [
       "                 breed  retweet_count  favorite_count\n",
       "45    golden_retriever       643964.0       1856222.0\n",
       "62  labrador_retriever       415362.0       1161577.0\n",
       "80            pembroke       267162.0        995817.0"
      ]
     },
     "execution_count": 88,
     "metadata": {},
     "output_type": "execute_result"
    }
   ],
   "source": [
    "pop_bre = df_master.groupby(['breed'],as_index =False)['retweet_count','favorite_count'].sum()\n",
    "pop_bre.sort_values(by=['retweet_count','favorite_count'],ascending=False).head(3)"
   ]
  },
  {
   "cell_type": "code",
   "execution_count": 102,
   "metadata": {},
   "outputs": [
    {
     "data": {
      "image/png": "[encoded data removed]",
      "text/plain": [
       "<matplotlib.figure.Figure at 0x7fedc11434a8>"
      ]
     },
     "metadata": {
      "needs_background": "light"
     },
     "output_type": "display_data"
    },
    {
     "data": {
      "text/plain": [
       "<matplotlib.figure.Figure at 0x7fedc0097630>"
      ]
     },
     "metadata": {},
     "output_type": "display_data"
    }
   ],
   "source": [
    "bre_ret = df_master.groupby(['breed'])['retweet_count'].sum().sort_values(ascending=False).head(5)\n",
    "\n",
    "bre_fav = df_master.groupby(['breed'])['favorite_count'].sum().sort_values(ascending=False).head(5)\n",
    "\n",
    "fig = plt.figure() # Creates matplotlib figure\n",
    "\n",
    "ax = fig.add_subplot(111) # Creates matplotlib axes\n",
    "ax2 = ax.twinx() # Creates another axes that shares the same x-axis as ax.\n",
    "\n",
    "width = 0.4\n",
    "\n",
    "bre_fav.plot(figsize = (6,6), kind='bar', color='#FFB266', \n",
    "             ax=ax, width=width, position=1, \n",
    "             title='Popular Breeds: Favourits vs. Retweets')\n",
    "\n",
    "bre_ret.plot(figsize = (10,6), kind='bar', color='#66B2FF', \n",
    "             ax=ax2, width=width, position=0)\n",
    "\n",
    "# Turns off grid on the left Axis.\n",
    "ax.grid(False)\n",
    "\n",
    "# Turns off grid on the secondary (right) Axis.\n",
    "ax2.grid(False)\n",
    "\n",
    "ax2.set_ylabel('Favourits')\n",
    "ax.set_ylabel('Retweets')\n",
    "\n",
    "ax.set_xticklabels(bre_fav.index, rotation=90)\n",
    "\n",
    "h1, l1 = ax.get_legend_handles_labels()\n",
    "h2, l2 = ax2.get_legend_handles_labels()\n",
    "\n",
    "plt.legend(h1+h2, l1+l2, loc=1)\n",
    "plt.show()\n",
    "plt.savefig('pop_breeds.png')"
   ]
  },
  {
   "cell_type": "markdown",
   "metadata": {},
   "source": [
    "golden_retriever is the most popular breed"
   ]
  }
 ],
 "metadata": {
  "kernelspec": {
   "display_name": "Python 3",
   "language": "python",
   "name": "python3"
  },
  "language_info": {
   "codemirror_mode": {
    "name": "ipython",
    "version": 3
   },
   "file_extension": ".py",
   "mimetype": "text/x-python",
   "name": "python",
   "nbconvert_exporter": "python",
   "pygments_lexer": "ipython3",
   "version": "3.6.3"
  }
 },
 "nbformat": 4,
 "nbformat_minor": 2
}
