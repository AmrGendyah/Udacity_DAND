{
 "cells": [
  {
   "cell_type": "markdown",
   "metadata": {},
   "source": [
    "# act_report"
   ]
  },
  {
   "cell_type": "markdown",
   "metadata": {},
   "source": [
    "## Introduction\n",
    "This Wrangle and Analyze Data Project is part of Udacity’s Data Analyst Nanodegree.\n",
    "\n",
    "The project involves wrangling of data from various sources associated with tweets from theTwitter user @dog_rates, also known as WeRateDogs. After scraping togetherthe data, quality and tidiness issues were assessed and then cleaned. \n",
    "\n",
    "The idea behind the WeRateDogs account is that they ask people to send them photos of their dogs,and they will rate them on a scale of 1-10 with humorous comments.\n",
    "\n",
    "Initially upon gathering we had 2356 observation but doing this\n",
    "project I really understand why data wrangling is so important as lot of observation are repetitive,\n",
    "inappropriate, incomplete and messy but as project requirement only to clean up 8 quality issues and 2\n",
    "tidiness issues so I can say I have complete somewhat.\n",
    "\n",
    "During analysis I found retweet and favourite have strong correlation as it’s the nature of Twitter\n",
    "platform, because if tweet get like then it makes viral soon and then lot of counts for them"
   ]
  },
  {
   "cell_type": "markdown",
   "metadata": {},
   "source": [
    "### 1-Most used Twitter source\n",
    "<img src=\"source.png\" />\n",
    "\n",
    "- Almost all tweets are sent via iPhone."
   ]
  },
  {
   "cell_type": "markdown",
   "metadata": {},
   "source": [
    "### 2- Most Common Stage\n",
    "<img src=\"DogStages.png\" />\n",
    "\n",
    "- Pupper is most common stage of dogs"
   ]
  },
  {
   "cell_type": "markdown",
   "metadata": {},
   "source": [
    "### 3- The Most Popular Breed\n",
    "<img src=\"pop_breeds.png\" />\n",
    "\n",
    "- Golden retriever is the most popular breed"
   ]
  },
  {
   "cell_type": "markdown",
   "metadata": {},
   "source": [
    "### 4- What is the most popular name (favorites, retweets)?\n",
    "- Bo is the most popular name with 113720 retweets and 175340 favourites"
   ]
  },
  {
   "cell_type": "markdown",
   "metadata": {},
   "source": [
    "### 5-Favorites and Retweets through Time\n",
    "<img src=\"FavoritesRetweets.png\" />\n",
    "\n",
    "- The account got popularity over time More and more pictures got likes.\n",
    "- Number of favorite_count is bigger than retweet_count"
   ]
  },
  {
   "cell_type": "markdown",
   "metadata": {},
   "source": [
    "### 6- Corr. between retweets and favourits\n",
    "<img src=\"corr.png\" />\n",
    "\n",
    "Above seems like a strog relationship but abviously if tweet get liked then thats the one get retweeted thousands of time."
   ]
  }
 ],
 "metadata": {
  "kernelspec": {
   "display_name": "Python 3",
   "language": "python",
   "name": "python3"
  },
  "language_info": {
   "codemirror_mode": {
    "name": "ipython",
    "version": 3
   },
   "file_extension": ".py",
   "mimetype": "text/x-python",
   "name": "python",
   "nbconvert_exporter": "python",
   "pygments_lexer": "ipython3",
   "version": "3.6.3"
  }
 },
 "nbformat": 4,
 "nbformat_minor": 2
}
